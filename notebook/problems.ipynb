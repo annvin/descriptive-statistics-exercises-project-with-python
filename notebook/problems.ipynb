{
    "cells": [
        {
            "cell_type": "markdown",
            "id": "5e0ab0d5",
            "metadata": {},
            "source": [
                "### Exercise 1\n",
                "\n",
                "We will use NumPy to obtain information to describe statistically.\n",
                "\n",
                "- Generate an array of 100 elements following a normal distribution.\n",
                "- Generate an array of 100 elements following a chi-square distribution with 3 degrees of freedom.\n",
                "- Calculate the main metrics and statistical measures that best describe the two vectors."
            ]
        },
        {
            "cell_type": "markdown",
            "id": "ac622319",
            "metadata": {},
            "source": [
                "# Descriptive statistics problems"
            ]
        },
        {
            "cell_type": "code",
            "execution_count": 28,
            "id": "34720ab6",
            "metadata": {},
            "outputs": [
                {
                    "name": "stdout",
                    "output_type": "stream",
                    "text": [
                        "86.98899700295998\n",
                        "10.01940043247638\n"
                    ]
                },
                {
                    "data": {
                        "text/plain": [
                            "(array([2.000e+00, 1.000e+00, 7.000e+00, 1.800e+01, 6.200e+01, 1.700e+02,\n",
                            "        3.750e+02, 6.800e+02, 1.064e+03, 1.516e+03, 1.687e+03, 1.533e+03,\n",
                            "        1.289e+03, 8.820e+02, 3.780e+02, 2.010e+02, 9.200e+01, 2.800e+01,\n",
                            "        1.200e+01, 3.000e+00]),\n",
                            " array([ 42.06736535,  46.28314425,  50.49892316,  54.71470206,\n",
                            "         58.93048096,  63.14625987,  67.36203877,  71.57781767,\n",
                            "         75.79359658,  80.00937548,  84.22515439,  88.44093329,\n",
                            "         92.65671219,  96.8724911 , 101.08827   , 105.30404891,\n",
                            "        109.51982781, 113.73560671, 117.95138562, 122.16716452,\n",
                            "        126.38294342]),\n",
                            " <BarContainer object of 20 artists>)"
                        ]
                    },
                    "execution_count": 28,
                    "metadata": {},
                    "output_type": "execute_result"
                },
                {
                    "data": {
                        "image/png": "[encoded data removed]",
                        "text/plain": [
                            "<Figure size 640x480 with 1 Axes>"
                        ]
                    },
                    "metadata": {},
                    "output_type": "display_data"
                }
            ],
            "source": [
                "# TODO\n",
                "import numpy as np\n",
                "import matplotlib.pyplot as plt\n",
                "import pandas as pd\n",
                "mean = 87\n",
                "sd = 10\n",
                "size = 10000\n",
                "arr = np.random.normal(mean, sd, size)\n",
                "arr\n",
                "print(arr.mean())\n",
                "print(arr.std())\n",
                "\n",
                "plt.hist(arr, bins=20)\n",
                "\n",
                "\n"
            ]
        },
        {
            "cell_type": "code",
            "execution_count": 30,
            "id": "04595e47",
            "metadata": {},
            "outputs": [
                {
                    "name": "stdout",
                    "output_type": "stream",
                    "text": [
                        "3.0008413079286647\n",
                        "2.4390661638108724\n"
                    ]
                },
                {
                    "data": {
                        "text/plain": [
                            "(array([2.332e+03, 2.589e+03, 1.836e+03, 1.265e+03, 7.790e+02, 4.400e+02,\n",
                            "        3.220e+02, 1.630e+02, 1.210e+02, 7.600e+01, 3.000e+01, 2.100e+01,\n",
                            "        7.000e+00, 7.000e+00, 7.000e+00, 0.000e+00, 2.000e+00, 1.000e+00,\n",
                            "        1.000e+00, 1.000e+00]),\n",
                            " array([5.38830434e-03, 1.16195324e+00, 2.31851818e+00, 3.47508312e+00,\n",
                            "        4.63164806e+00, 5.78821300e+00, 6.94477793e+00, 8.10134287e+00,\n",
                            "        9.25790781e+00, 1.04144727e+01, 1.15710377e+01, 1.27276026e+01,\n",
                            "        1.38841676e+01, 1.50407325e+01, 1.61972974e+01, 1.73538624e+01,\n",
                            "        1.85104273e+01, 1.96669923e+01, 2.08235572e+01, 2.19801221e+01,\n",
                            "        2.31366871e+01]),\n",
                            " <BarContainer object of 20 artists>)"
                        ]
                    },
                    "execution_count": 30,
                    "metadata": {},
                    "output_type": "execute_result"
                },
                {
                    "data": {
                        "image/png": "[encoded data removed]",
                        "text/plain": [
                            "<Figure size 640x480 with 1 Axes>"
                        ]
                    },
                    "metadata": {},
                    "output_type": "display_data"
                }
            ],
            "source": [
                "arr1 = np.random.chisquare(df=3, size=10000)\n",
                "print(arr1.mean())\n",
                "print(arr1.std())\n",
                "plt.hist(arr1, bins=20)\n"
            ]
        },
        {
            "cell_type": "markdown",
            "id": "46c70c3d",
            "metadata": {},
            "source": [
                "### Exercise 2\n",
                "\n",
                "Write a Python program to calculate the standard deviation of the following data:\n",
                "\n",
                "```py\n",
                "data = [4, 2, 5, 8, 6]\n",
                "```"
            ]
        },
        {
            "cell_type": "code",
            "execution_count": 31,
            "id": "d590308e",
            "metadata": {},
            "outputs": [
                {
                    "name": "stdout",
                    "output_type": "stream",
                    "text": [
                        "2.0\n"
                    ]
                }
            ],
            "source": [
                "# TODO\n",
                "data = [4,2,5,8,6]\n",
                "arr3 = np.array(data)\n",
                "print(arr3.std())"
            ]
        },
        {
            "cell_type": "code",
            "execution_count": null,
            "id": "c2b9dc4d",
            "metadata": {},
            "outputs": [],
            "source": []
        }
    ],
    "metadata": {
        "interpreter": {
            "hash": "9248718ffe6ce6938b217e69dbcc175ea21f4c6b28a317e96c05334edae734bb"
        },
        "kernelspec": {
            "display_name": "Python 3.9.12 ('ML-BOOTCAMP')",
            "language": "python",
            "name": "python3"
        },
        "language_info": {
            "codemirror_mode": {
                "name": "ipython",
                "version": 3
            },
            "file_extension": ".py",
            "mimetype": "text/x-python",
            "name": "python",
            "nbconvert_exporter": "python",
            "pygments_lexer": "ipython3",
            "version": "3.11.4"
        }
    },
    "nbformat": 4,
    "nbformat_minor": 5
}
